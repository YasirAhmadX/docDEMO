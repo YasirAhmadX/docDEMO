{
 "cells": [
  {
   "cell_type": "code",
   "execution_count": 2,
   "id": "9994e4ec",
   "metadata": {},
   "outputs": [
    {
     "name": "stdout",
     "output_type": "stream",
     "text": [
      "ollama>> India has multiple national sports that have gained significant popularity in recent years. Here are some of the most popular and well-known ones:\n",
      "\n",
      "1. Cricket: India is renowned for its long history of cricket and has consistently produced world-class teams over the years.\n",
      "\n",
      "2. Hockey: Cricket, along with football (soccer), has made it to the World Cup every four years since 1983, making it one of the most watched sports in the world.\n",
      "\n",
      "3. Football (Golf): This sport involves playing on a grass field and is played by both men and women.\n",
      "\n",
      "4. Badminton: This sport includes multiple disciplines including singles, doubles, and mixed doubles competitions at various levels.\n",
      "\n",
      "5. Table Tennis: A popular sport that combines physical prowess with strategic thinking among players.\n",
      "\n",
      "6. Cycling: India's cycling community has gained significant popularity through the country's success in international competitions like the Olympic Games.\n",
      "\n",
      "7. Surfing: The sport of surfing has become increasingly popular in India, especially among beach-goers and surfers.\n",
      "\n",
      "8. Swimming: From breaststroke to freestyle swimming events at major tournaments.\n",
      "\n",
      "9. Marathon: While not a national sport, it remains an important event for athletes across many countries.\n",
      "\n",
      "10. Badminton: This sport is played by both men and women and has been part of Indian culture since ancient times.\n",
      "\n",
      "These sports are popular in India due to their rich cultural heritage, strong sports culture, and the country's global appeal.\n"
     ]
    }
   ],
   "source": [
    "import ollama \n",
    "\n",
    "client = ollama.Client()\n",
    "\n",
    "model = 'qwen2.5:0.5b'\n",
    "prompt = input(\"Enter prompt: \")\n",
    "\n",
    "response = client.generate(model, prompt)\n",
    "\n",
    "print(\"ollama>> \"+response.response)"
   ]
  },
  {
   "cell_type": "code",
   "execution_count": 4,
   "id": "4e8b456f",
   "metadata": {},
   "outputs": [
    {
     "name": "stdout",
     "output_type": "stream",
     "text": [
      "\n",
      "Generated Code:\n",
      "Error communicating with Ollama: 500 Server Error: Internal Server Error for url: http://localhost:11434/api/generate\n"
     ]
    }
   ],
   "source": [
    "import os\n",
    "\n",
    "def generate_code(prompt):\n",
    "    \"\"\"\n",
    "    Takes a user prompt and sends it to the Ollama API with a specific system prompt\n",
    "    to generate code.\n",
    "\n",
    "    Args:\n",
    "        prompt (str): The user's request for code.\n",
    "\n",
    "    Returns:\n",
    "        str: The generated code with comments, or a message indicating\n",
    "             that the query is not related to code generation.\n",
    "    \"\"\"\n",
    "    system_prompt = \"You are an expert code generator who generates a well commented and documented code. You are a part of CI/CD pipeline and your outputs are sent to a code reviewer. Please ensure to give only the code with comments. Be concise and factual. If the user query is not related to code generation then state that you are a code generator only.\"\n",
    "    model = \"qwen2.5-coder:0.5b\"\n",
    "    ollama_host = os.environ.get(\"OLLAMA_HOST\", \"http://localhost:11434\") # Default Ollama host\n",
    "\n",
    "    import requests\n",
    "    import json\n",
    "\n",
    "    data = {\n",
    "        \"prompt\": prompt,\n",
    "        \"model\": model,\n",
    "        \"stream\": False,\n",
    "        \"system\": system_prompt\n",
    "    }\n",
    "\n",
    "    try:\n",
    "        response = requests.post(f\"{ollama_host}/api/generate\", json=data)\n",
    "        response.raise_for_status()  # Raise an exception for HTTP errors\n",
    "\n",
    "        result = response.json()\n",
    "        generated_text = \"\"\n",
    "        for part in result.get(\"response\", \"\").splitlines():\n",
    "            generated_text += part + \"\\n\"\n",
    "\n",
    "        if \"```\" in generated_text:\n",
    "            # Extract code block if it's enclosed in triple backticks\n",
    "            code_blocks = generated_text.split(\"```\")\n",
    "            if len(code_blocks) > 1:\n",
    "                return code_blocks[1].strip()\n",
    "            else:\n",
    "                return generated_text.strip()\n",
    "        elif any(keyword in prompt.lower() for keyword in [\"code\", \"script\", \"function\", \"class\", \"program\"]):\n",
    "            return generated_text.strip()\n",
    "        else:\n",
    "            return \"I am a code generator only.\"\n",
    "\n",
    "    except requests.exceptions.RequestException as e:\n",
    "        return f\"Error communicating with Ollama: {e}\"\n",
    "    except json.JSONDecodeError:\n",
    "        return \"Error decoding JSON response from Ollama.\"\n",
    "\n",
    "if __name__ == \"__main__\":\n",
    "    user_prompt = \"find first 100 factorials\" #input(\"Enter your code request: \")\n",
    "    output_code = generate_code(user_prompt)\n",
    "    print(\"\\nGenerated Code:\")\n",
    "    print(output_code)"
   ]
  },
  {
   "cell_type": "code",
   "execution_count": 5,
   "id": "de5fbad0",
   "metadata": {},
   "outputs": [
    {
     "data": {
      "text/plain": [
       "GenerateResponse(model='qwen2.5:0.5b', created_at='2025-04-20T07:20:44.0755222Z', done=True, done_reason='stop', total_duration=26289440300, load_duration=2403594400, prompt_eval_count=35, prompt_eval_duration=1491000000, eval_count=297, eval_duration=22389000000, response=\"India has multiple national sports that have gained significant popularity in recent years. Here are some of the most popular and well-known ones:\\n\\n1. Cricket: India is renowned for its long history of cricket and has consistently produced world-class teams over the years.\\n\\n2. Hockey: Cricket, along with football (soccer), has made it to the World Cup every four years since 1983, making it one of the most watched sports in the world.\\n\\n3. Football (Golf): This sport involves playing on a grass field and is played by both men and women.\\n\\n4. Badminton: This sport includes multiple disciplines including singles, doubles, and mixed doubles competitions at various levels.\\n\\n5. Table Tennis: A popular sport that combines physical prowess with strategic thinking among players.\\n\\n6. Cycling: India's cycling community has gained significant popularity through the country's success in international competitions like the Olympic Games.\\n\\n7. Surfing: The sport of surfing has become increasingly popular in India, especially among beach-goers and surfers.\\n\\n8. Swimming: From breaststroke to freestyle swimming events at major tournaments.\\n\\n9. Marathon: While not a national sport, it remains an important event for athletes across many countries.\\n\\n10. Badminton: This sport is played by both men and women and has been part of Indian culture since ancient times.\\n\\nThese sports are popular in India due to their rich cultural heritage, strong sports culture, and the country's global appeal.\", context=[151644, 8948, 198, 2610, 525, 1207, 16948, 11, 3465, 553, 54364, 14817, 13, 1446, 525, 264, 10950, 17847, 13, 151645, 198, 151644, 872, 198, 12555, 374, 5313, 10552, 315, 27711, 151645, 198, 151644, 77091, 198, 33548, 702, 5248, 5313, 9833, 429, 614, 18163, 5089, 22538, 304, 3213, 1635, 13, 5692, 525, 1045, 315, 279, 1429, 5411, 323, 1632, 21309, 6174, 1447, 16, 13, 57919, 25, 6747, 374, 35948, 369, 1181, 1293, 3840, 315, 35999, 323, 702, 20699, 8947, 1879, 14800, 7263, 916, 279, 1635, 382, 17, 13, 40242, 25, 57919, 11, 3156, 448, 8964, 320, 57021, 3828, 701, 702, 1865, 432, 311, 279, 4337, 10861, 1449, 3040, 1635, 2474, 220, 16, 24, 23, 18, 11, 3259, 432, 825, 315, 279, 1429, 15384, 9833, 304, 279, 1879, 382, 18, 13, 20761, 320, 38, 8095, 1648, 1096, 10552, 17601, 5619, 389, 264, 16359, 2070, 323, 374, 6342, 553, 2176, 2953, 323, 3198, 382, 19, 13, 11461, 76, 7306, 25, 1096, 10552, 5646, 5248, 48155, 2670, 17389, 11, 39296, 11, 323, 9519, 39296, 42582, 518, 5257, 5866, 382, 20, 13, 6633, 57151, 25, 362, 5411, 10552, 429, 32411, 6961, 73060, 448, 18580, 7274, 4221, 4217, 382, 21, 13, 59970, 25, 6747, 594, 32062, 3942, 702, 18163, 5089, 22538, 1526, 279, 3146, 594, 2393, 304, 6489, 42582, 1075, 279, 24900, 11610, 382, 22, 13, 64097, 287, 25, 576, 10552, 315, 57740, 702, 3635, 14756, 5411, 304, 6747, 11, 5310, 4221, 11321, 19926, 388, 323, 20269, 388, 382, 23, 13, 74700, 25, 5542, 17216, 28241, 311, 3457, 37383, 23380, 4357, 518, 3598, 39061, 382, 24, 13, 50173, 25, 5976, 537, 264, 5313, 10552, 11, 432, 8458, 458, 2989, 1538, 369, 22742, 3941, 1657, 5837, 382, 16, 15, 13, 11461, 76, 7306, 25, 1096, 10552, 374, 6342, 553, 2176, 2953, 323, 3198, 323, 702, 1012, 949, 315, 7748, 7674, 2474, 13833, 3039, 382, 9485, 9833, 525, 5411, 304, 6747, 4152, 311, 862, 9080, 12752, 27848, 11, 3746, 9833, 7674, 11, 323, 279, 3146, 594, 3644, 14303, 13])"
      ]
     },
     "execution_count": 5,
     "metadata": {},
     "output_type": "execute_result"
    }
   ],
   "source": [
    "response"
   ]
  },
  {
   "cell_type": "code",
   "execution_count": 19,
   "id": "f42560a3",
   "metadata": {},
   "outputs": [
    {
     "name": "stdout",
     "output_type": "stream",
     "text": [
      "ollama>> python\n",
      "def is_prime(n):\n",
      "    \"\"\"Check if a number is prime.\"\"\"\n",
      "    # 0 and 1 are not prime numbers\n",
      "    if n <= 1:\n",
      "        return False\n",
      "    # Check divisibility from 2 up to the square root of n\n",
      "    for i in range(2, int(n**0.5) + 1):\n",
      "        if n % i == 0:\n",
      "            return False\n",
      "    return True\n",
      "\n",
      "def primes_up_to(limit):\n",
      "    \"\"\"Generate a list of all prime numbers up to a given limit.\"\"\"\n",
      "    # Generate all numbers from 2 to the limit\n",
      "    primes = [i for i in range(2, limit + 1) if is_prime(i)]\n",
      "    return primes\n",
      "\n",
      "# Example usage:\n",
      "limit = 30\n",
      "primes = primes_up_to(limit)\n",
      "print(f\"Prime numbers up to {limit}: {primes}\")\n"
     ]
    }
   ],
   "source": [
    "import ollama\n",
    "\n",
    "client = ollama.Client()\n",
    "\n",
    "model = 'qwen2.5-coder:0.5b'\n",
    "prompt = \"code to calculate prime numbers\"#input(\"Enter your code request: \")\n",
    "\n",
    "system_prompt = \"You are an expert code generator who generates a well commented and documented code. You are a part of CI/CD pipeline and your outputs are sent to a code reviewer. Please ensure to give only the code with comments. Be concise and factual. If the user query is not related to code generation then state that you are a code generator only.\"\n",
    "\n",
    "if any(keyword in prompt.lower() for keyword in [\"code\", \"script\", \"function\", \"class\", \"program\"]):\n",
    "    response = client.generate(\n",
    "        model=model,\n",
    "        prompt=prompt,\n",
    "        system=system_prompt,\n",
    "        stream=False\n",
    "    )\n",
    "    generated_text = response.response\n",
    "\n",
    "    if \"```\" in generated_text:\n",
    "        # Extract code block if it's enclosed in triple backticks\n",
    "        code_blocks = generated_text.split(\"```\")\n",
    "        if len(code_blocks) > 1:\n",
    "            print(\"ollama>> \" + code_blocks[1].strip())\n",
    "        else:\n",
    "            print(\"ollama>> \" + generated_text.strip())\n",
    "    else:\n",
    "        print(\"ollama>> \" + generated_text.strip())\n",
    "else:\n",
    "    print(\"ollama>> I am a code generator only.\")"
   ]
  },
  {
   "cell_type": "code",
   "execution_count": 9,
   "id": "112ba7db",
   "metadata": {},
   "outputs": [
    {
     "data": {
      "text/plain": [
       "GenerateResponse(model='qwen2.5-coder:0.5b', created_at='2025-04-20T07:34:06.5206006Z', done=True, done_reason='stop', total_duration=34525543000, load_duration=2280210200, prompt_eval_count=87, prompt_eval_duration=2675000000, eval_count=443, eval_duration=29565000000, response='To find prim numbers, we can write a Python function that iterates through all possible numbers up to a certain limit and checks if each number is prime. Here\\'s a concise code snippet:\\n\\n```python\\ndef is_prime(n):\\n    \"\"\"Check if a number is a prime number.\"\"\"\\n    if n <= 1:\\n        return False\\n    if n <= 3:\\n        return True\\n    if n % 2 == 0 or n % 3 == 0:\\n        return False\\n    i = 5\\n    while i * i <= n:\\n        if n % i == 0 or n % (i + 2) == 0:\\n            return False\\n        i += 6\\n    return True\\n\\ndef find_primes(limit):\\n    \"\"\"Find all prime numbers up to a given limit.\"\"\"\\n    primes = []\\n    for num in range(2, limit + 1):\\n        if is_prime(num):\\n            primes.append(num)\\n    return primes\\n\\n# Example usage:\\nlimit = 50\\nprimes_up_to_limit = find_primes(limit)\\nprint(f\"Prime numbers up to {limit}: {primes_up_to_limit}\")\\n```\\n\\n### Explanation:\\n\\n- **`is_prime(n)`**: This function checks if a number `n` is prime. It handles small numbers directly and uses a loop to check divisibility for larger numbers.\\n  - Numbers less than or equal to 1 are not prime.\\n  - Numbers 2 and 3 are prime by definition.\\n  - If `n` is divisible by 2 or 3, it is not prime.\\n  - For other numbers, it checks divisibility from 5 onwards, skipping even numbers and multiples of 3, which are already marked as non-prime.\\n\\n- **`find_primes(limit)`**: This function iterates through all numbers from 2 to `limit`. It uses the `is_prime(n)` function to check each number if it is prime. If a number is prime, it adds it to the list of primes.\\n\\n- **Example Usage**: The example demonstrates how to use these functions to find and print all prime numbers up to a specified limit.', context=[151644, 8948, 198, 2610, 525, 458, 6203, 2038, 13823, 879, 26885, 264, 1632, 28686, 323, 26372, 2038, 13, 1446, 525, 264, 949, 315, 20694, 14, 6484, 15301, 323, 697, 16275, 525, 3208, 311, 264, 2038, 55514, 13, 5209, 5978, 311, 2968, 1172, 279, 2038, 448, 6042, 13, 2823, 63594, 323, 59901, 13, 1416, 279, 1196, 3239, 374, 537, 5435, 311, 2038, 9471, 1221, 1584, 429, 498, 525, 264, 2038, 13823, 1172, 13, 151645, 198, 151644, 872, 198, 1851, 311, 1477, 8860, 5109, 151645, 198, 151644, 77091, 198, 1249, 1477, 8860, 5109, 11, 582, 646, 3270, 264, 13027, 729, 429, 5367, 973, 1526, 678, 3204, 5109, 705, 311, 264, 3654, 3930, 323, 12341, 421, 1817, 1372, 374, 10250, 13, 5692, 594, 264, 63594, 2038, 43065, 1447, 73594, 12669, 198, 750, 374, 38217, 1445, 982, 262, 4210, 3973, 421, 264, 1372, 374, 264, 10250, 1372, 14442, 262, 421, 308, 2651, 220, 16, 510, 286, 470, 3557, 198, 262, 421, 308, 2651, 220, 18, 510, 286, 470, 3007, 198, 262, 421, 308, 1018, 220, 17, 621, 220, 15, 476, 308, 1018, 220, 18, 621, 220, 15, 510, 286, 470, 3557, 198, 262, 600, 284, 220, 20, 198, 262, 1393, 600, 353, 600, 2651, 308, 510, 286, 421, 308, 1018, 600, 621, 220, 15, 476, 308, 1018, 320, 72, 488, 220, 17, 8, 621, 220, 15, 510, 310, 470, 3557, 198, 286, 600, 1421, 220, 21, 198, 262, 470, 3007, 271, 750, 1477, 5294, 1733, 52262, 982, 262, 4210, 9885, 678, 10250, 5109, 705, 311, 264, 2661, 3930, 14442, 262, 49433, 284, 4167, 262, 369, 1629, 304, 2088, 7, 17, 11, 3930, 488, 220, 16, 982, 286, 421, 374, 38217, 8068, 982, 310, 49433, 2057, 8068, 340, 262, 470, 49433, 271, 2, 13383, 10431, 510, 9506, 284, 220, 20, 15, 198, 649, 1733, 8237, 2346, 14763, 284, 1477, 5294, 1733, 52262, 340, 1350, 955, 1, 32306, 5109, 705, 311, 314, 9506, 16097, 314, 649, 1733, 8237, 2346, 14763, 14451, 13874, 19324, 14374, 71287, 1447, 12, 3070, 63, 285, 38217, 1445, 46186, 95518, 1096, 729, 12341, 421, 264, 1372, 1565, 77, 63, 374, 10250, 13, 1084, 13469, 2613, 5109, 5961, 323, 5711, 264, 6337, 311, 1779, 49368, 3147, 369, 8131, 5109, 624, 220, 481, 34713, 2686, 1091, 476, 6144, 311, 220, 16, 525, 537, 10250, 624, 220, 481, 34713, 220, 17, 323, 220, 18, 525, 10250, 553, 7271, 624, 220, 481, 1416, 1565, 77, 63, 374, 74916, 553, 220, 17, 476, 220, 18, 11, 432, 374, 537, 10250, 624, 220, 481, 1752, 1008, 5109, 11, 432, 12341, 49368, 3147, 504, 220, 20, 59425, 11, 42659, 1496, 5109, 323, 65060, 315, 220, 18, 11, 892, 525, 2669, 12864, 438, 2477, 26650, 545, 382, 12, 3070, 63, 3903, 5294, 1733, 52262, 46186, 95518, 1096, 729, 5367, 973, 1526, 678, 5109, 504, 220, 17, 311, 1565, 9506, 28587, 1084, 5711, 279, 1565, 285, 38217, 1445, 46186, 729, 311, 1779, 1817, 1372, 421, 432, 374, 10250, 13, 1416, 264, 1372, 374, 10250, 11, 432, 11367, 432, 311, 279, 1140, 315, 49433, 382, 12, 3070, 13314, 24567, 95518, 576, 3110, 31116, 1246, 311, 990, 1493, 5746, 311, 1477, 323, 1173, 678, 10250, 5109, 705, 311, 264, 5189, 3930, 13])"
      ]
     },
     "execution_count": 9,
     "metadata": {},
     "output_type": "execute_result"
    }
   ],
   "source": [
    "response"
   ]
  },
  {
   "cell_type": "code",
   "execution_count": 10,
   "id": "7406343e",
   "metadata": {},
   "outputs": [
    {
     "data": {
      "text/plain": [
       "'To find prim numbers, we can write a Python function that iterates through all possible numbers up to a certain limit and checks if each number is prime. Here\\'s a concise code snippet:\\n\\n```python\\ndef is_prime(n):\\n    \"\"\"Check if a number is a prime number.\"\"\"\\n    if n <= 1:\\n        return False\\n    if n <= 3:\\n        return True\\n    if n % 2 == 0 or n % 3 == 0:\\n        return False\\n    i = 5\\n    while i * i <= n:\\n        if n % i == 0 or n % (i + 2) == 0:\\n            return False\\n        i += 6\\n    return True\\n\\ndef find_primes(limit):\\n    \"\"\"Find all prime numbers up to a given limit.\"\"\"\\n    primes = []\\n    for num in range(2, limit + 1):\\n        if is_prime(num):\\n            primes.append(num)\\n    return primes\\n\\n# Example usage:\\nlimit = 50\\nprimes_up_to_limit = find_primes(limit)\\nprint(f\"Prime numbers up to {limit}: {primes_up_to_limit}\")\\n```\\n\\n### Explanation:\\n\\n- **`is_prime(n)`**: This function checks if a number `n` is prime. It handles small numbers directly and uses a loop to check divisibility for larger numbers.\\n  - Numbers less than or equal to 1 are not prime.\\n  - Numbers 2 and 3 are prime by definition.\\n  - If `n` is divisible by 2 or 3, it is not prime.\\n  - For other numbers, it checks divisibility from 5 onwards, skipping even numbers and multiples of 3, which are already marked as non-prime.\\n\\n- **`find_primes(limit)`**: This function iterates through all numbers from 2 to `limit`. It uses the `is_prime(n)` function to check each number if it is prime. If a number is prime, it adds it to the list of primes.\\n\\n- **Example Usage**: The example demonstrates how to use these functions to find and print all prime numbers up to a specified limit.'"
      ]
     },
     "execution_count": 10,
     "metadata": {},
     "output_type": "execute_result"
    }
   ],
   "source": [
    "response.response"
   ]
  },
  {
   "cell_type": "code",
   "execution_count": 14,
   "id": "3d61d6cc",
   "metadata": {},
   "outputs": [],
   "source": [
    "r = response.response.split(\"```python\")"
   ]
  },
  {
   "cell_type": "code",
   "execution_count": 15,
   "id": "ca271fa0",
   "metadata": {},
   "outputs": [
    {
     "data": {
      "text/plain": [
       "[\"To find prim numbers, we can write a Python function that iterates through all possible numbers up to a certain limit and checks if each number is prime. Here's a concise code snippet:\\n\\n\",\n",
       " '\\ndef is_prime(n):\\n    \"\"\"Check if a number is a prime number.\"\"\"\\n    if n <= 1:\\n        return False\\n    if n <= 3:\\n        return True\\n    if n % 2 == 0 or n % 3 == 0:\\n        return False\\n    i = 5\\n    while i * i <= n:\\n        if n % i == 0 or n % (i + 2) == 0:\\n            return False\\n        i += 6\\n    return True\\n\\ndef find_primes(limit):\\n    \"\"\"Find all prime numbers up to a given limit.\"\"\"\\n    primes = []\\n    for num in range(2, limit + 1):\\n        if is_prime(num):\\n            primes.append(num)\\n    return primes\\n\\n# Example usage:\\nlimit = 50\\nprimes_up_to_limit = find_primes(limit)\\nprint(f\"Prime numbers up to {limit}: {primes_up_to_limit}\")\\n```\\n\\n### Explanation:\\n\\n- **`is_prime(n)`**: This function checks if a number `n` is prime. It handles small numbers directly and uses a loop to check divisibility for larger numbers.\\n  - Numbers less than or equal to 1 are not prime.\\n  - Numbers 2 and 3 are prime by definition.\\n  - If `n` is divisible by 2 or 3, it is not prime.\\n  - For other numbers, it checks divisibility from 5 onwards, skipping even numbers and multiples of 3, which are already marked as non-prime.\\n\\n- **`find_primes(limit)`**: This function iterates through all numbers from 2 to `limit`. It uses the `is_prime(n)` function to check each number if it is prime. If a number is prime, it adds it to the list of primes.\\n\\n- **Example Usage**: The example demonstrates how to use these functions to find and print all prime numbers up to a specified limit.']"
      ]
     },
     "execution_count": 15,
     "metadata": {},
     "output_type": "execute_result"
    }
   ],
   "source": [
    "r"
   ]
  },
  {
   "cell_type": "code",
   "execution_count": 16,
   "id": "e8000bd0",
   "metadata": {},
   "outputs": [
    {
     "data": {
      "text/plain": [
       "'\\ndef is_prime(n):\\n    \"\"\"Check if a number is a prime number.\"\"\"\\n    if n <= 1:\\n        return False\\n    if n <= 3:\\n        return True\\n    if n % 2 == 0 or n % 3 == 0:\\n        return False\\n    i = 5\\n    while i * i <= n:\\n        if n % i == 0 or n % (i + 2) == 0:\\n            return False\\n        i += 6\\n    return True\\n\\ndef find_primes(limit):\\n    \"\"\"Find all prime numbers up to a given limit.\"\"\"\\n    primes = []\\n    for num in range(2, limit + 1):\\n        if is_prime(num):\\n            primes.append(num)\\n    return primes\\n\\n# Example usage:\\nlimit = 50\\nprimes_up_to_limit = find_primes(limit)\\nprint(f\"Prime numbers up to {limit}: {primes_up_to_limit}\")\\n```\\n\\n### Explanation:\\n\\n- **`is_prime(n)`**: This function checks if a number `n` is prime. It handles small numbers directly and uses a loop to check divisibility for larger numbers.\\n  - Numbers less than or equal to 1 are not prime.\\n  - Numbers 2 and 3 are prime by definition.\\n  - If `n` is divisible by 2 or 3, it is not prime.\\n  - For other numbers, it checks divisibility from 5 onwards, skipping even numbers and multiples of 3, which are already marked as non-prime.\\n\\n- **`find_primes(limit)`**: This function iterates through all numbers from 2 to `limit`. It uses the `is_prime(n)` function to check each number if it is prime. If a number is prime, it adds it to the list of primes.\\n\\n- **Example Usage**: The example demonstrates how to use these functions to find and print all prime numbers up to a specified limit.'"
      ]
     },
     "execution_count": 16,
     "metadata": {},
     "output_type": "execute_result"
    }
   ],
   "source": [
    "r[1]"
   ]
  },
  {
   "cell_type": "code",
   "execution_count": 17,
   "id": "1d09f477",
   "metadata": {},
   "outputs": [
    {
     "data": {
      "text/plain": [
       "''"
      ]
     },
     "execution_count": 17,
     "metadata": {},
     "output_type": "execute_result"
    }
   ],
   "source": [
    "generated_text"
   ]
  },
  {
   "cell_type": "code",
   "execution_count": 20,
   "id": "68162288",
   "metadata": {},
   "outputs": [
    {
     "data": {
      "text/plain": [
       "'python\\ndef is_prime(n):\\n    \"\"\"Check if a number is prime.\"\"\"\\n    # 0 and 1 are not prime numbers\\n    if n <= 1:\\n        return False\\n    # Check divisibility from 2 up to the square root of n\\n    for i in range(2, int(n**0.5) + 1):\\n        if n % i == 0:\\n            return False\\n    return True\\n\\ndef primes_up_to(limit):\\n    \"\"\"Generate a list of all prime numbers up to a given limit.\"\"\"\\n    # Generate all numbers from 2 to the limit\\n    primes = [i for i in range(2, limit + 1) if is_prime(i)]\\n    return primes\\n\\n# Example usage:\\nlimit = 30\\nprimes = primes_up_to(limit)\\nprint(f\"Prime numbers up to {limit}: {primes}\")\\n'"
      ]
     },
     "execution_count": 20,
     "metadata": {},
     "output_type": "execute_result"
    }
   ],
   "source": [
    "code_blocks[1]"
   ]
  },
  {
   "cell_type": "code",
   "execution_count": 34,
   "id": "66d188b2",
   "metadata": {},
   "outputs": [],
   "source": [
    "import ollama\n",
    "\n",
    "def generate_code_with_ollama(prompt):\n",
    "    \"\"\"\n",
    "    Generates code using the Ollama API based on the provided prompt.\n",
    "\n",
    "    Args:\n",
    "        prompt (str): The user's request for code.\n",
    "\n",
    "    Returns:\n",
    "        str: The generated code with comments, or a message indicating\n",
    "             that the query is not related to code generation.\n",
    "    \"\"\"\n",
    "    client = ollama.Client()\n",
    "    model = 'qwen2.5-coder:0.5b'\n",
    "    system_prompt = \"You are an expert code generator who generates a well commented and documented code. You are a part of CI/CD pipeline and your outputs are sent to a code reviewer. Please ensure to give only the code with comments. Be concise and factual. If the user query is not related to code generation then state that you are a code generator only.\"\n",
    "\n",
    "    if any(keyword in prompt.lower() for keyword in [\"code\", \"script\", \"function\", \"class\", \"program\"]):\n",
    "        response = client.generate(\n",
    "            model=model,\n",
    "            prompt=prompt,\n",
    "            system=system_prompt,\n",
    "            stream=False\n",
    "        )\n",
    "        generated_text = response.response\n",
    "\n",
    "        if \"```\" in generated_text:\n",
    "            # Extract code block if it's enclosed in triple backticks\n",
    "            code_blocks = generated_text.split(\"```\")\n",
    "            if len(code_blocks) > 1:\n",
    "                return code_blocks[1].strip()\n",
    "            else:\n",
    "                return generated_text.strip()\n",
    "        else:\n",
    "            return generated_text.strip()\n",
    "    else:\n",
    "        return \"I am a code generator only.\"\n",
    "\n"
   ]
  },
  {
   "cell_type": "code",
   "execution_count": 22,
   "id": "611bc2ea",
   "metadata": {},
   "outputs": [
    {
     "name": "stdout",
     "output_type": "stream",
     "text": [
      "ollama>> c\n",
      "#include <stdio.h>\n",
      "\n",
      "// Function to check if a number is prime\n",
      "int isPrime(int num) {\n",
      "    // 0 and 1 are not prime numbers\n",
      "    if (num <= 1) return 0;\n",
      "    // 2 and 3 are prime numbers\n",
      "    if (num <= 3) return 1;\n",
      "    // Eliminate even numbers greater than 3\n",
      "    if (num % 2 == 0 || num % 3 == 0) return 0;\n",
      "    // Check divisibility from 5 to the square root of num\n",
      "    for (int i = 5; i * i <= num; i += 6) {\n",
      "        if (num % i == 0 || num % (i + 2) == 0) return 0;\n",
      "    }\n",
      "    return 1;\n",
      "}\n",
      "\n",
      "// Main function to find prime numbers in a range\n",
      "void findPrimesInRange(int start, int end) {\n",
      "    for (int number = start; number <= end; number++) {\n",
      "        if (isPrime(number)) {\n",
      "            printf(\"%d is a prime number.\\n\", number);\n",
      "        }\n",
      "    }\n",
      "}\n",
      "\n",
      "int main() {\n",
      "    // Example usage\n",
      "    int startRange = 10;\n",
      "    int endRange = 50;\n",
      "\n",
      "    printf(\"Finding primes between %d and %d...\\n\", startRange, endRange);\n",
      "\n",
      "    findPrimesInRange(startRange, endRange);\n",
      "\n",
      "    return 0;\n",
      "}\n"
     ]
    }
   ],
   "source": [
    "user_prompt = \"code to find prime numbers in c\"#input(\"Enter your code request: \")\n",
    "output_code = generate_code_with_ollama(user_prompt)\n",
    "print(\"ollama>> \" + output_code)"
   ]
  },
  {
   "cell_type": "code",
   "execution_count": 23,
   "id": "2a23d148",
   "metadata": {},
   "outputs": [
    {
     "data": {
      "text/plain": [
       "'c\\n#include <stdio.h>\\n\\n// Function to check if a number is prime\\nint isPrime(int num) {\\n    // 0 and 1 are not prime numbers\\n    if (num <= 1) return 0;\\n    // 2 and 3 are prime numbers\\n    if (num <= 3) return 1;\\n    // Eliminate even numbers greater than 3\\n    if (num % 2 == 0 || num % 3 == 0) return 0;\\n    // Check divisibility from 5 to the square root of num\\n    for (int i = 5; i * i <= num; i += 6) {\\n        if (num % i == 0 || num % (i + 2) == 0) return 0;\\n    }\\n    return 1;\\n}\\n\\n// Main function to find prime numbers in a range\\nvoid findPrimesInRange(int start, int end) {\\n    for (int number = start; number <= end; number++) {\\n        if (isPrime(number)) {\\n            printf(\"%d is a prime number.\\\\n\", number);\\n        }\\n    }\\n}\\n\\nint main() {\\n    // Example usage\\n    int startRange = 10;\\n    int endRange = 50;\\n\\n    printf(\"Finding primes between %d and %d...\\\\n\", startRange, endRange);\\n\\n    findPrimesInRange(startRange, endRange);\\n\\n    return 0;\\n}'"
      ]
     },
     "execution_count": 23,
     "metadata": {},
     "output_type": "execute_result"
    }
   ],
   "source": [
    "output_code"
   ]
  },
  {
   "cell_type": "code",
   "execution_count": 30,
   "id": "0aedbe5c",
   "metadata": {},
   "outputs": [],
   "source": [
    "file_type = output_code[:output_code.find(\"\\n\")]\n",
    "content = output_code[output_code.find(\"\\n\")+1::]"
   ]
  },
  {
   "cell_type": "code",
   "execution_count": 31,
   "id": "2dc2671f",
   "metadata": {},
   "outputs": [
    {
     "data": {
      "text/plain": [
       "'c'"
      ]
     },
     "execution_count": 31,
     "metadata": {},
     "output_type": "execute_result"
    }
   ],
   "source": [
    "file_type"
   ]
  },
  {
   "cell_type": "code",
   "execution_count": 35,
   "id": "c7021ef3",
   "metadata": {},
   "outputs": [
    {
     "name": "stdout",
     "output_type": "stream",
     "text": [
      "ollama>> java\n",
      "import java.util.Scanner;\n",
      "\n",
      "public class PrimeFinder {\n",
      "    /**\n",
      "     * Checks if a number is prime.\n",
      "     *\n",
      "     * @param number The number to check.\n",
      "     * @return true if the number is prime, false otherwise.\n",
      "     */\n",
      "    public static boolean isPrime(int number) {\n",
      "        // Handle numbers less than 2\n",
      "        if (number < 2) {\n",
      "            return false;\n",
      "        }\n",
      "        // Check divisibility from 2 up to the square root of the number\n",
      "        for (int i = 2; i * i <= number; i++) {\n",
      "            if (number % i == 0) {\n",
      "                return false;\n",
      "            }\n",
      "        }\n",
      "        return true;\n",
      "    }\n",
      "\n",
      "    /**\n",
      "     * Finds all prime numbers in a given range.\n",
      "     *\n",
      "     * @param start The starting point of the range.\n",
      "     * @param end The ending point of the range.\n",
      "     * @return A list containing all prime numbers within the range.\n",
      "     */\n",
      "    public static List<Integer> findPrimesInRange(int start, int end) {\n",
      "        List<Integer> primes = new ArrayList<>();\n",
      "        for (int num = start; num <= end; num++) {\n",
      "            if (isPrime(num)) {\n",
      "                primes.add(num);\n",
      "            }\n",
      "        }\n",
      "        return primes;\n",
      "    }\n",
      "\n",
      "    /**\n",
      "     * Main method to test the functionality of findPrimesInRange.\n",
      "     */\n",
      "    public static void main(String[] args) {\n",
      "        // Test cases\n",
      "        System.out.println(\"Primes in range 2 to 10: \" + findPrimesInRange(2, 10));\n",
      "        System.out.println(\"Primes in range 15 to 20: \" + findPrimesInRange(15, 20));\n",
      "    }\n",
      "}\n"
     ]
    }
   ],
   "source": [
    "user_prompt = \"code to find prime numbers in java\"#input(\"Enter your code request: \")\n",
    "output_code = generate_code_with_ollama(user_prompt)\n",
    "print(\"ollama>> \" + output_code)"
   ]
  },
  {
   "cell_type": "code",
   "execution_count": 36,
   "id": "2548b6e6",
   "metadata": {},
   "outputs": [],
   "source": [
    "file_type = output_code[:output_code.find(\"\\n\")]\n",
    "content = output_code[output_code.find(\"\\n\")+1::]"
   ]
  },
  {
   "cell_type": "code",
   "execution_count": 37,
   "id": "a25dffff",
   "metadata": {},
   "outputs": [
    {
     "data": {
      "text/plain": [
       "'java'"
      ]
     },
     "execution_count": 37,
     "metadata": {},
     "output_type": "execute_result"
    }
   ],
   "source": [
    "file_type"
   ]
  },
  {
   "cell_type": "code",
   "execution_count": 38,
   "id": "051678bf",
   "metadata": {},
   "outputs": [
    {
     "data": {
      "text/plain": [
       "'import java.util.Scanner;\\n\\npublic class PrimeFinder {\\n    /**\\n     * Checks if a number is prime.\\n     *\\n     * @param number The number to check.\\n     * @return true if the number is prime, false otherwise.\\n     */\\n    public static boolean isPrime(int number) {\\n        // Handle numbers less than 2\\n        if (number < 2) {\\n            return false;\\n        }\\n        // Check divisibility from 2 up to the square root of the number\\n        for (int i = 2; i * i <= number; i++) {\\n            if (number % i == 0) {\\n                return false;\\n            }\\n        }\\n        return true;\\n    }\\n\\n    /**\\n     * Finds all prime numbers in a given range.\\n     *\\n     * @param start The starting point of the range.\\n     * @param end The ending point of the range.\\n     * @return A list containing all prime numbers within the range.\\n     */\\n    public static List<Integer> findPrimesInRange(int start, int end) {\\n        List<Integer> primes = new ArrayList<>();\\n        for (int num = start; num <= end; num++) {\\n            if (isPrime(num)) {\\n                primes.add(num);\\n            }\\n        }\\n        return primes;\\n    }\\n\\n    /**\\n     * Main method to test the functionality of findPrimesInRange.\\n     */\\n    public static void main(String[] args) {\\n        // Test cases\\n        System.out.println(\"Primes in range 2 to 10: \" + findPrimesInRange(2, 10));\\n        System.out.println(\"Primes in range 15 to 20: \" + findPrimesInRange(15, 20));\\n    }\\n}'"
      ]
     },
     "execution_count": 38,
     "metadata": {},
     "output_type": "execute_result"
    }
   ],
   "source": [
    "content"
   ]
  },
  {
   "cell_type": "code",
   "execution_count": 39,
   "id": "ce470fa6",
   "metadata": {},
   "outputs": [
    {
     "name": "stdout",
     "output_type": "stream",
     "text": [
      "ollama>> c\n",
      "#include <stdio.h>\n",
      "\n",
      "// Function to check if a number is prime\n",
      "int isPrime(int num) {\n",
      "    // 0 and 1 are not prime numbers\n",
      "    if (num <= 1) return 0;\n",
      "    \n",
      "    // Check divisibility from 2 up to the square root of the number\n",
      "    for (int i = 2; i * i <= num; i++) {\n",
      "        if (num % i == 0) return 0; // Found a divisor, not prime\n",
      "    }\n",
      "    \n",
      "    return 1; // No divisors found, prime number\n",
      "}\n",
      "\n",
      "// Function to print all prime numbers up to a given number\n",
      "void printPrimes(int n) {\n",
      "    for (int num = 2; num <= n; num++) {\n",
      "        if (isPrime(num)) {\n",
      "            printf(\"%d \", num);\n",
      "        }\n",
      "    }\n",
      "    printf(\"\\n\");\n",
      "}\n",
      "\n",
      "int main() {\n",
      "    int n;\n",
      "    \n",
      "    // Prompt the user to enter a number\n",
      "    printf(\"Enter a number: \");\n",
      "    scanf(\"%d\", &n);\n",
      "    \n",
      "    // Print all prime numbers up to n\n",
      "    printPrimes(n);\n",
      "    \n",
      "    return 0;\n",
      "}\n"
     ]
    }
   ],
   "source": [
    "user_prompt = \"code to find prime numbers in c\"#input(\"Enter your code request: \")\n",
    "output_code = generate_code_with_ollama(user_prompt)\n",
    "print(\"ollama>> \" + output_code)"
   ]
  },
  {
   "cell_type": "code",
   "execution_count": 40,
   "id": "fae64b39",
   "metadata": {},
   "outputs": [
    {
     "data": {
      "text/plain": [
       "'c'"
      ]
     },
     "execution_count": 40,
     "metadata": {},
     "output_type": "execute_result"
    }
   ],
   "source": [
    "file_type = output_code[:output_code.find(\"\\n\")]\n",
    "content = output_code[output_code.find(\"\\n\")+1::]\n",
    "file_type"
   ]
  },
  {
   "cell_type": "code",
   "execution_count": 52,
   "id": "c48ac233",
   "metadata": {},
   "outputs": [],
   "source": [
    "import os\n",
    "\n",
    "def save_file(content, file_type):\n",
    "    \"\"\"\n",
    "    Saves the given content into a file with the specified file type in the 'coder_folder' directory.\n",
    "\n",
    "    Args:\n",
    "        content (str): The content to be written into the file.\n",
    "        file_type (str): The file extension/type (e.g., 'py', 'java', 'txt').\n",
    "\n",
    "    Returns:\n",
    "        str: The path of the saved file or an error message if the operation fails.\n",
    "    \"\"\"\n",
    "    # Define the directory where the file will be saved\n",
    "    coder_folder = os.path.join(os.getcwd(), \"coder_folder\")\n",
    "    \n",
    "    # Ensure the directory exists\n",
    "    os.makedirs(coder_folder, exist_ok=True)\n",
    "    \n",
    "    # Create a unique file name\n",
    "\n",
    "    if file_type in [\"python\",\"py\"]:\n",
    "        file_type = \"py\"\n",
    "    elif file_type in [\"java\"]:\n",
    "        file_type = \"java\"\n",
    "    elif file_type in [\"c\"]:\n",
    "        file_type = \"c\"\n",
    "    elif file_type in [\"cpp\"]:  \n",
    "        file_type = \"cpp\"\n",
    "    elif file_type in [\"js\"]:\n",
    "        file_type = \"js\"\n",
    "    elif file_type in [\"html\"]:\n",
    "        file_type = \"html\"\n",
    "    \n",
    "    file_name = f\"generated_code.{file_type}\"\n",
    "    file_path = os.path.join(coder_folder, file_name)\n",
    "\n",
    "    try:\n",
    "        # Write the content to the file\n",
    "        with open(file_path, \"w\", encoding=\"utf-8\") as file:\n",
    "            file.write(content)\n",
    "        return f\"File saved successfully at: {file_path}\"\n",
    "    except Exception as e:\n",
    "        return f\"Error saving file: {e}\""
   ]
  },
  {
   "cell_type": "code",
   "execution_count": 43,
   "id": "00bddba4",
   "metadata": {},
   "outputs": [
    {
     "data": {
      "text/plain": [
       "'File saved successfully at: e:\\\\22MIA\\\\3rd year(2024-25)\\\\Winter Semester\\\\CSE4079 DevOps\\\\project\\\\supergit\\\\development\\\\coder_folder\\\\generated_code.c'"
      ]
     },
     "execution_count": 43,
     "metadata": {},
     "output_type": "execute_result"
    }
   ],
   "source": [
    "save_file(content, file_type)"
   ]
  },
  {
   "cell_type": "code",
   "execution_count": 50,
   "id": "d4a5e269",
   "metadata": {},
   "outputs": [],
   "source": [
    "def create(user_prompt):\n",
    "    #user_prompt =input(\"Enter your code request: \")\n",
    "    output_code = generate_code_with_ollama(user_prompt)\n",
    "    file_type = output_code[:output_code.find(\"\\n\")]\n",
    "    content = output_code[output_code.find(\"\\n\")+1::]\n",
    "    save_file(content, file_type)"
   ]
  },
  {
   "cell_type": "code",
   "execution_count": 53,
   "id": "e9b42004",
   "metadata": {},
   "outputs": [],
   "source": [
    "create(\"code to find partitions of a number in python\")"
   ]
  },
  {
   "cell_type": "code",
   "execution_count": null,
   "id": "091673f7",
   "metadata": {},
   "outputs": [],
   "source": [
    "import ollama\n",
    "\n",
    "def generate_code_with_ollama(prompt):\n",
    "    \"\"\"\n",
    "    Generates code using the Ollama API based on the provided prompt.\n",
    "\n",
    "    Args:\n",
    "        prompt (str): The user's request for code.\n",
    "\n",
    "    Returns:\n",
    "        str: The generated code with comments, or a message indicating\n",
    "             that the query is not related to code generation.\n",
    "    \"\"\"\n",
    "    client = ollama.Client()\n",
    "    model = 'qwen2.5-coder:0.5b'\n",
    "    system_prompt = \"You are an expert code generator who generates a well commented and documented code. You are a part of CI/CD pipeline and your outputs are sent to a code reviewer. Please ensure to give only the code with comments. Be concise and factual. If the user query is not related to code generation then state that you are a code generator only.\"\n",
    "\n",
    "    if any(keyword in prompt.lower() for keyword in [\"code\", \"script\", \"function\", \"class\", \"program\"]):\n",
    "        response = client.generate(\n",
    "            model=model,\n",
    "            prompt=prompt,\n",
    "            system=system_prompt,\n",
    "            stream=False\n",
    "        )\n",
    "        #write in log file\n",
    "\n",
    "        generated_text = response.response\n",
    "\n",
    "        if \"```\" in generated_text:\n",
    "            # Extract code block if it's enclosed in triple backticks\n",
    "            code_blocks = generated_text.split(\"```\")\n",
    "            if len(code_blocks) > 1:\n",
    "                return code_blocks[1].strip()\n",
    "            else:\n",
    "                return generated_text.strip()\n",
    "        else:\n",
    "            return generated_text.strip()\n",
    "    else:\n",
    "        return \"I am a code generator only.\"\n",
    "\"\"\"\n",
    "user_prompt = \"code to find prime numbers in c\"#input(\"Enter your code request: \")\n",
    "output_code = generate_code_with_ollama(user_prompt)\n",
    "print(\"ollama>> \" + output_code)\"\"\"\n",
    "import os\n",
    "\n",
    "def save_file(content, file_type, name=\"\"):\n",
    "    \"\"\"\n",
    "    Saves the given content into a file with the specified file type in the 'coder_folder' directory.\n",
    "\n",
    "    Args:\n",
    "        content (str): The content to be written into the file.\n",
    "        file_type (str): The file extension/type (e.g., 'py', 'java', 'txt').\n",
    "\n",
    "    Returns:\n",
    "        str: The path of the saved file or an error message if the operation fails.\n",
    "    \"\"\"\n",
    "    # Define the directory where the file will be saved\n",
    "    coder_folder = os.path.join(os.getcwd(), \"coder_folder\")\n",
    "    \n",
    "    # Ensure the directory exists\n",
    "    os.makedirs(coder_folder, exist_ok=True)\n",
    "    \n",
    "    # Create a unique file name\n",
    "\n",
    "    if file_type in [\"python\",\"py\"]:\n",
    "        file_type = \"py\"\n",
    "    elif file_type in [\"java\"]:\n",
    "        file_type = \"java\"\n",
    "    elif file_type in [\"c\"]:\n",
    "        file_type = \"c\"\n",
    "    elif file_type in [\"cpp\"]:  \n",
    "        file_type = \"cpp\"\n",
    "    elif file_type in [\"js\"]:\n",
    "        file_type = \"js\"\n",
    "    elif file_type in [\"html\"]:\n",
    "        file_type = \"html\"\n",
    "\n",
    "    file_name = f\"{name if name else 'generated_code'}.{file_type}\"\n",
    "\n",
    "    print(\"\\n\\ncoder>> Saving as File name\" + file_name)\n",
    "\n",
    "    file_path = os.path.join(coder_folder, file_name)\n",
    "\n",
    "    try:\n",
    "        # Write the content to the file\n",
    "        with open(file_path, \"w\", encoding=\"utf-8\") as file:\n",
    "            file.write(content)\n",
    "        print(\"\\n\\ncoder>> File saved successfully at: \" + file_path)\n",
    "        return f\"File saved successfully at: {file_path}\"\n",
    "    except Exception as e:\n",
    "        print(\"\\n\\ncoder>> Error saving file: \" + str(e))\n",
    "        return f\"Error saving file: {e}\"\n",
    "    \n",
    "def create(user_prompt, name=\"\"):\n",
    "    #user_prompt =input(\"Enter your code request: \")\n",
    "    output_code = generate_code_with_ollama(user_prompt)\n",
    "    print(\"coder>> \" + output_code)\n",
    "\n",
    "    file_type = output_code[:output_code.find(\"\\n\")]\n",
    "    print(\"\\n\\ncoder>> File type\" + file_type)\n",
    "\n",
    "    content = output_code[output_code.find(\"\\n\")+1::]\n",
    "    print(\"\\n\\ncoder>> Content\" + content)\n",
    "\n",
    "    print(\"\\n\\ncoder>> Saving file\")\n",
    "    # Save the file with the specified name\n",
    "    save_file(content, file_type, name=name)\n",
    "\n"
   ]
  },
  {
   "cell_type": "code",
   "execution_count": 55,
   "id": "38468e63",
   "metadata": {},
   "outputs": [],
   "source": [
    "create(\"code to find prime number in python\",name=\"a.py\") #prompt,name"
   ]
  },
  {
   "cell_type": "code",
   "execution_count": 57,
   "id": "913ee3e0",
   "metadata": {},
   "outputs": [
    {
     "data": {
      "text/plain": [
       "'File saved successfully at: e:\\\\22MIA\\\\3rd year(2024-25)\\\\Winter Semester\\\\CSE4079 DevOps\\\\project\\\\supergit\\\\development\\\\coder_folder\\\\a.py.py'"
      ]
     },
     "execution_count": 57,
     "metadata": {},
     "output_type": "execute_result"
    }
   ],
   "source": [
    "save_file(\"hello\",\"py\", name=\"a.py\") #prompt,name"
   ]
  },
  {
   "cell_type": "code",
   "execution_count": null,
   "id": "91bfbe9e",
   "metadata": {},
   "outputs": [],
   "source": []
  }
 ],
 "metadata": {
  "kernelspec": {
   "display_name": "env",
   "language": "python",
   "name": "python3"
  },
  "language_info": {
   "codemirror_mode": {
    "name": "ipython",
    "version": 3
   },
   "file_extension": ".py",
   "mimetype": "text/x-python",
   "name": "python",
   "nbconvert_exporter": "python",
   "pygments_lexer": "ipython3",
   "version": "3.11.5"
  }
 },
 "nbformat": 4,
 "nbformat_minor": 5
}
